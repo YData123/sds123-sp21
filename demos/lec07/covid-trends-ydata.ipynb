{
 "cells": [
  {
   "cell_type": "markdown",
   "metadata": {},
   "source": [
    "## The New York Times Covid-19 Database\n",
    "\n",
    "The New York Times Covid-19 Database is \n",
    "a county-level database of confirmed cases and deaths, \n",
    "compiled from state and local governments and health departments across the United States.\n",
    "The initial release of the database was on Thursday, March 26, 2020, and it is updated daily. \n",
    "\n",
    "These data have fueled many articles and graphics by The Times; these are updated regularly at\n",
    "[https://www.nytimes.com/interactive/2020/us/coronavirus-us-cases.html](https://www.nytimes.com/interactive/2020/us/coronavirus-us-cases.html). \n",
    "The Times has created many visualizations that are effective communications of important information about the pandemic. \n",
    "\n",
    "The data are publically available via GitHub: [https://github.com/nytimes/covid-19-data](https://www.nytimes.com/interactive/2020/us/coronavirus-us-cases.html).  In this illustration we will only use\n",
    "the data aggregated at the state level. "
   ]
  },
  {
   "cell_type": "code",
   "execution_count": null,
   "metadata": {},
   "outputs": [],
   "source": [
    "import matplotlib.pyplot as plt\n",
    "import numpy as np\n",
    "%matplotlib inline\n",
    "from datascience import *\n",
    "\n",
    "covid_table = Table.read_table(\"https://raw.githubusercontent.com/nytimes/covid-19-data/master/us-states.csv\")\n",
    "covid_table = covid_table.drop('fips')\n",
    "covid_table"
   ]
  },
  {
   "cell_type": "markdown",
   "metadata": {},
   "source": [
    "### Process the recent data\n",
    "\n",
    "Here is some code that creates a Table with the recent Covid-19 statistics for a given state. Just pass in the name of the state as a string.\n"
   ]
  },
  {
   "cell_type": "code",
   "execution_count": null,
   "metadata": {},
   "outputs": [],
   "source": [
    "state = 'New York'\n",
    "first_date = '2021-01-11'\n",
    "next_date = '2021-01-12'\n",
    "recent_data = covid_table.where('date', are.above(first_date))\n",
    "recent_state_data = recent_data.where('state', state)\n",
    "new_cases = np.diff(recent_state_data['cases'])\n",
    "recent_state_data = recent_state_data.where('date', are.above(next_date))\n",
    "recent_state_data = recent_state_data.with_column('new cases', new_cases)\n",
    "recent_state_data = recent_state_data.with_column('days back', np.arange(-1*len(recent_state_data['date']), 0))\n"
   ]
  },
  {
   "cell_type": "code",
   "execution_count": null,
   "metadata": {
    "scrolled": false
   },
   "outputs": [],
   "source": [
    "recent_state_data.show(10)\n",
    "recent_state_data.bar('days back', 'new cases')\n",
    "recent_state_data.scatter('days back', 'new cases')\n"
   ]
  },
  {
   "cell_type": "code",
   "execution_count": null,
   "metadata": {},
   "outputs": [],
   "source": [
    "merged_data = covid_table.drop('state')\n",
    "merged_data = merged_data.group('date', sum)\n",
    "merged_data = merged_data.where('date', are.above('2020-03-01'))\n",
    "merged_data"
   ]
  },
  {
   "cell_type": "code",
   "execution_count": null,
   "metadata": {},
   "outputs": [],
   "source": [
    "new_cases = np.diff(merged_data['cases sum'])\n",
    "us_cases_by_day = Table().with_columns('date', merged_data['date'][1:], 'new cases', new_cases)\n",
    "us_cases_by_day.bar('date', 'new cases')\n",
    "plt.xlabel('')\n",
    "_ = plt.xticks(rotation=90)"
   ]
  },
  {
   "cell_type": "markdown",
   "metadata": {},
   "source": [
    "Compare this to the graph here: [https://github.com/nytimes/covid-19-data](https://www.nytimes.com/interactive/2020/us/coronavirus-us-cases.html).\n",
    "\n",
    "Now, your task is to modify the above code in order to display a plot of the new *deaths* each day. (Hint: You only need to change one word!) What stands out to you upon comparing the plots of new cases and new deaths? \n"
   ]
  }
 ],
 "metadata": {
  "kernelspec": {
   "display_name": "Python 3",
   "language": "python",
   "name": "python3"
  },
  "language_info": {
   "codemirror_mode": {
    "name": "ipython",
    "version": 3
   },
   "file_extension": ".py",
   "mimetype": "text/x-python",
   "name": "python",
   "nbconvert_exporter": "python",
   "pygments_lexer": "ipython3",
   "version": "3.7.3"
  }
 },
 "nbformat": 4,
 "nbformat_minor": 4
}
